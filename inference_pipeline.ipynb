{
 "cells": [
  {
   "cell_type": "code",
   "execution_count": null,
   "metadata": {
    "collapsed": true
   },
   "outputs": [],
   "source": [
    "import joblib\n",
    "import sagemaker\n",
    "import pandas as pd\n",
    "from src.config import config as cfg\n",
    "from sagemaker.pipeline import PipelineModel\n",
    "from utilities.evaluation import ModelEvaluation\n",
    "from sagemaker import get_execution_role, s3_input\n",
    "from sagemaker.model_monitor import DataCaptureConfig\n",
    "from utilities.utils import download_model, decompress_model, prediction_df\n",
    "from sagemaker.tuner import IntegerParameter, ContinuousParameter, HyperparameterTuner\n",
    "from aws.sagemaker_helper import sklearn_preprocessor, sagemaker_model, batch_transform, calculate_prediction"
   ]
  },
  {
   "cell_type": "code",
   "execution_count": null,
   "outputs": [],
   "source": [
    "role = get_execution_role()\n",
    "session = sagemaker.Session()"
   ],
   "metadata": {
    "collapsed": false,
    "pycharm": {
     "name": "#%%\n"
    }
   }
  },
  {
   "cell_type": "code",
   "execution_count": null,
   "outputs": [],
   "source": [
    "bucket = cfg.S3_BUCKET\n",
    "prefix = cfg.S3_PREFIX\n",
    "\n",
    "train_path = f's3://{bucket}/{prefix}/train/train.csv'\n",
    "test_path = f's3://{bucket}/{prefix}/test/test.csv'\n",
    "validation_path = f's3://{bucket}/{prefix}/validation/validation.csv'\n",
    "\n",
    "output_path = f's3://{bucket}/{prefix}/output'\n",
    "s3_capture_upload_path = f's3://{bucket}/{prefix}/data_capture'"
   ],
   "metadata": {
    "collapsed": false,
    "pycharm": {
     "name": "#%%\n"
    }
   }
  },
  {
   "cell_type": "markdown",
   "source": [
    "## Preprocesamiento"
   ],
   "metadata": {
    "collapsed": false,
    "pycharm": {
     "name": "#%% md\n"
    }
   }
  },
  {
   "cell_type": "code",
   "execution_count": null,
   "outputs": [],
   "source": [
    "preprocessor = sklearn_preprocessor(entry_point='sklearn_preprocessing.py', role=role, output_dir=output_path)\n",
    "\n",
    "preprocessor.fit({'train': s3_input(train_path, content_type='text/csv')}, job_name='scikit-preprocessing-slg')"
   ],
   "metadata": {
    "collapsed": false,
    "pycharm": {
     "name": "#%%\n"
    }
   }
  },
  {
   "cell_type": "code",
   "execution_count": null,
   "outputs": [],
   "source": [
    "batch_transform(model=preprocessor, data=train_path, output_dir=output_path)"
   ],
   "metadata": {
    "collapsed": false,
    "pycharm": {
     "name": "#%%\n"
    }
   }
  },
  {
   "cell_type": "code",
   "execution_count": null,
   "outputs": [],
   "source": [
    "batch_transform(model=preprocessor, data=test_path, output_dir=output_path)"
   ],
   "metadata": {
    "collapsed": false,
    "pycharm": {
     "name": "#%%\n"
    }
   }
  },
  {
   "cell_type": "code",
   "execution_count": null,
   "outputs": [],
   "source": [
    "batch_transform(model=preprocessor, data=test_path, output_dir=output_path)"
   ],
   "metadata": {
    "collapsed": false,
    "pycharm": {
     "name": "#%%\n"
    }
   }
  },
  {
   "cell_type": "markdown",
   "source": [
    "## XGBoost"
   ],
   "metadata": {
    "collapsed": false,
    "pycharm": {
     "name": "#%% md\n"
    }
   }
  },
  {
   "cell_type": "code",
   "execution_count": null,
   "outputs": [],
   "source": [
    "hyperparams = {\n",
    "    'objective': 'binary:logistic',\n",
    "    'early_stopping_rounds': 10,\n",
    "    'num_round': 250,\n",
    "    'max_depth': 4,\n",
    "    'subsample': 0.8,\n",
    "    'colsample_bytree': 0.8,\n",
    "    'scale_pos_weight': 4\n",
    "}\n",
    "\n",
    "job_name = 'xgboost-model-slg'\n",
    "\n",
    "xgb = sagemaker_model(image='xgboost', role=role,\n",
    "                      region_name=cfg.AWS_REGION, hyperparams=hyperparams, output_dir=output_path)\n",
    "\n",
    "data_channel = {\n",
    "    'train': s3_input(f'{output_path}/train.csv.out', content_type='text/csv'),\n",
    "    'validation': s3_input(f'{output_path}/validation.csv.out', content_type='text/csv')\n",
    "}\n",
    "\n",
    "xgb.fit(data_channel, job_name=job_name)"
   ],
   "metadata": {
    "collapsed": false,
    "pycharm": {
     "name": "#%%\n"
    }
   }
  },
  {
   "cell_type": "markdown",
   "source": [
    "#### Evaluación del modelo"
   ],
   "metadata": {
    "collapsed": false,
    "pycharm": {
     "name": "#%% md\n"
    }
   }
  },
  {
   "cell_type": "code",
   "execution_count": null,
   "outputs": [],
   "source": [
    "test_label = pd.read_csv(f's3://{bucket}/{prefix}/test/test_label.csv', sep=';', names=['label'])"
   ],
   "metadata": {
    "collapsed": false,
    "pycharm": {
     "name": "#%%\n"
    }
   }
  },
  {
   "cell_type": "code",
   "execution_count": null,
   "outputs": [],
   "source": [
    "download_model(local_dir=f'models/{job_name}/model.tar.gz',\n",
    "               model_path=f'{output_path}/{job_name}/output/model.tar.gz')"
   ],
   "metadata": {
    "collapsed": false,
    "pycharm": {
     "name": "#%%\n"
    }
   }
  },
  {
   "cell_type": "code",
   "execution_count": null,
   "outputs": [],
   "source": [
    "decompress_model(local_dir=f'models/{job_name}/model.tar.gz')"
   ],
   "metadata": {
    "collapsed": false,
    "pycharm": {
     "name": "#%%\n"
    }
   }
  },
  {
   "cell_type": "code",
   "execution_count": null,
   "outputs": [],
   "source": [
    "model = joblib.load('xgboost-model')\n",
    "prediction = prediction_df(model, file_path=f'{output_path}/test.csv.out', score=0.5)\n",
    "\n",
    "evaluation = ModelEvaluation(observed=test_label['label'], predicted=prediction['prediction'])"
   ],
   "metadata": {
    "collapsed": false,
    "pycharm": {
     "name": "#%%\n"
    }
   }
  },
  {
   "cell_type": "code",
   "execution_count": null,
   "outputs": [],
   "source": [
    "evaluation.generate_report()"
   ],
   "metadata": {
    "collapsed": false,
    "pycharm": {
     "name": "#%%\n"
    }
   }
  },
  {
   "cell_type": "code",
   "execution_count": null,
   "outputs": [],
   "source": [
    "evaluation.calculate_metrics()\n",
    "evaluation.print_metrics()\n",
    "evaluation.confusion_matrix()"
   ],
   "metadata": {
    "collapsed": false,
    "pycharm": {
     "name": "#%%\n"
    }
   }
  },
  {
   "cell_type": "markdown",
   "source": [
    "## Optimización de hiperparametros"
   ],
   "metadata": {
    "collapsed": false,
    "pycharm": {
     "name": "#%% md\n"
    }
   }
  },
  {
   "cell_type": "code",
   "execution_count": null,
   "outputs": [],
   "source": [
    "hyperparams = {\n",
    "    'objective': 'binary:logistic',\n",
    "    'early_stopping_rounds': 10,\n",
    "    'num_round': 250,\n",
    "    'max_depth': 4,\n",
    "    'subsample': 0.7,\n",
    "    'colsample_bytree': 0.7,\n",
    "    'scale_pos_weight': 4\n",
    "}\n",
    "\n",
    "job_name = 'xgboost-model-slg-1'\n",
    "\n",
    "xgb_model = sagemaker_model(image='xgboost', role=role,\n",
    "                            region_name=cfg.AWS_REGION, hyperparams=hyperparams, output_dir=output_path)"
   ],
   "metadata": {
    "collapsed": false,
    "pycharm": {
     "name": "#%%\n"
    }
   }
  },
  {
   "cell_type": "code",
   "execution_count": null,
   "outputs": [],
   "source": [
    "xgb_model_cv = HyperparameterTuner(estimator=xgb_model,\n",
    "                                   objective_metric_name='validation:f1',\n",
    "                                   objective_type='Maximize',\n",
    "                                   max_jobs=10,\n",
    "                                   max_parallel_jobs=3,\n",
    "                                   hyperparameter_ranges={\n",
    "                                       'max_depth': IntegerParameter(min_value=3, max_value=6),\n",
    "                                       'subsample': ContinuousParameter(min_value=0.5, max_value=0.9)\n",
    "                                   })\n",
    "\n",
    "\n",
    "xgb_model_cv.fit(data_channel, job_name=job_name)"
   ],
   "metadata": {
    "collapsed": false,
    "pycharm": {
     "name": "#%%\n"
    }
   }
  },
  {
   "cell_type": "code",
   "execution_count": null,
   "outputs": [],
   "source": [
    "xgb_model_cv.wait()"
   ],
   "metadata": {
    "collapsed": false,
    "pycharm": {
     "name": "#%%\n"
    }
   }
  },
  {
   "cell_type": "code",
   "execution_count": null,
   "outputs": [],
   "source": [
    "new_job_name = xgb_model_cv.best_training_job()\n",
    "\n",
    "download_model(local_dir=f'models/{new_job_name}/model.tar.gz',\n",
    "               model_path=f'{output_path}/{new_job_name}/output/model.tar.gz')"
   ],
   "metadata": {
    "collapsed": false,
    "pycharm": {
     "name": "#%%\n"
    }
   }
  },
  {
   "cell_type": "code",
   "execution_count": null,
   "outputs": [],
   "source": [
    "decompress_model(local_dir=f'models/{new_job_name}/model.tar.gz')"
   ],
   "metadata": {
    "collapsed": false,
    "pycharm": {
     "name": "#%%\n"
    }
   }
  },
  {
   "cell_type": "code",
   "execution_count": null,
   "outputs": [],
   "source": [
    "model = joblib.load('xgboost-model')\n",
    "prediction = prediction_df(model, file_path=f'{output_path}/test.csv.out', score=0.5)\n",
    "\n",
    "evaluation = ModelEvaluation(observed=test_label['label'], predicted=prediction['prediction'])"
   ],
   "metadata": {
    "collapsed": false,
    "pycharm": {
     "name": "#%%\n"
    }
   }
  },
  {
   "cell_type": "code",
   "execution_count": null,
   "outputs": [],
   "source": [
    "evaluation.generate_report()"
   ],
   "metadata": {
    "collapsed": false,
    "pycharm": {
     "name": "#%%\n"
    }
   }
  },
  {
   "cell_type": "code",
   "execution_count": null,
   "outputs": [],
   "source": [
    "evaluation.calculate_metrics()\n",
    "evaluation.print_metrics()\n",
    "evaluation.confusion_matrix()"
   ],
   "metadata": {
    "collapsed": false,
    "pycharm": {
     "name": "#%%\n"
    }
   }
  },
  {
   "cell_type": "markdown",
   "source": [
    "## Pipeline de inferencia"
   ],
   "metadata": {
    "collapsed": false,
    "pycharm": {
     "name": "#%% md\n"
    }
   }
  },
  {
   "cell_type": "code",
   "execution_count": null,
   "outputs": [],
   "source": [
    "data_capture_config = DataCaptureConfig(enable_capture=True,\n",
    "                                        sampling_percentage=100,\n",
    "                                        destination_s3_uri=s3_capture_upload_path)"
   ],
   "metadata": {
    "collapsed": false,
    "pycharm": {
     "name": "#%%\n"
    }
   }
  },
  {
   "cell_type": "code",
   "execution_count": null,
   "outputs": [],
   "source": [
    "scikit_preprocessor = preprocessor.create_model(env={\n",
    "    \"SAGEMAKER_DEFAULT_INVOCATIONS_ACCEPT\": \"text/csv\"\n",
    "})\n",
    "xgboost = xgb.create_model()\n",
    "\n",
    "model_name = endpoint_name = 'churn-score-slg'\n",
    "\n",
    "pipeline_model = PipelineModel(name=model_name, role=role, models=[\n",
    "    scikit_preprocessor, xgboost\n",
    "])"
   ],
   "metadata": {
    "collapsed": false,
    "pycharm": {
     "name": "#%%\n"
    }
   }
  },
  {
   "cell_type": "code",
   "execution_count": null,
   "outputs": [],
   "source": [
    "pipeline_model.deploy(initial_instance_count=1, instance_type='ml.t2.medium',\n",
    "                      endpoint_name=endpoint_name, data_capture_config=data_capture_config)"
   ],
   "metadata": {
    "collapsed": false,
    "pycharm": {
     "name": "#%%\n"
    }
   }
  },
  {
   "cell_type": "markdown",
   "source": [
    "## Consumo del EndPoint"
   ],
   "metadata": {
    "collapsed": false,
    "pycharm": {
     "name": "#%% md\n"
    }
   }
  },
  {
   "cell_type": "code",
   "execution_count": null,
   "outputs": [],
   "source": [
    "new_data = '4982;15768137;Bray;667;Spain;Female;23;6;136100.69;2;0;0;169669.33'"
   ],
   "metadata": {
    "collapsed": false,
    "pycharm": {
     "name": "#%%\n"
    }
   }
  },
  {
   "cell_type": "code",
   "execution_count": null,
   "outputs": [],
   "source": [
    "%timeit calculate_prediction(data=new_data)"
   ],
   "metadata": {
    "collapsed": false,
    "pycharm": {
     "name": "#%%\n"
    }
   }
  }
 ],
 "metadata": {
  "kernelspec": {
   "display_name": "Python 3",
   "language": "python",
   "name": "python3"
  },
  "language_info": {
   "codemirror_mode": {
    "name": "ipython",
    "version": 2
   },
   "file_extension": ".py",
   "mimetype": "text/x-python",
   "name": "python",
   "nbconvert_exporter": "python",
   "pygments_lexer": "ipython2",
   "version": "2.7.6"
  }
 },
 "nbformat": 4,
 "nbformat_minor": 0
}