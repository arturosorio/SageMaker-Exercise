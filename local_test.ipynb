{
 "cells": [
  {
   "cell_type": "code",
   "execution_count": 1,
   "metadata": {
    "collapsed": true
   },
   "outputs": [],
   "source": [
    "import joblib\n",
    "import warnings\n",
    "import numpy as np\n",
    "import pandas as pd\n",
    "from io import StringIO\n",
    "from sklearn import set_config\n",
    "from src.config import config as cfg\n",
    "from sklearn.pipeline import Pipeline\n",
    "from src.pipeline.custom_pipeline import ColumnSelector, ConvertDtypes, GetDummies\n",
    "\n",
    "set_config(display='diagram')\n",
    "warnings.filterwarnings(action='ignore')"
   ]
  },
  {
   "cell_type": "code",
   "execution_count": 2,
   "outputs": [],
   "source": [
    "train_data = pd.read_csv('data/train.csv', sep=';', names=cfg.FEATURES + [cfg.LABEL])\n",
    "validation_data = pd.read_csv('data/validation.csv', sep=';', names=cfg.FEATURES + [cfg.LABEL])"
   ],
   "metadata": {
    "collapsed": false,
    "pycharm": {
     "name": "#%%\n"
    }
   }
  },
  {
   "cell_type": "code",
   "execution_count": 3,
   "outputs": [
    {
     "data": {
      "text/plain": "      RowNumber  CustomerId  Surname  CreditScore Geography Gender  Age  \\\n3227         26    15738191  Maclean          577    France   Male   25   \n6860       1060    15812197    Kline          850    France   Male   38   \n4443       5592    15607509  Ozerova          539    France   Male   38   \n326        8820    15790750  Manfrin          592   Germany   Male   36   \n736         765    15672056  Kenenna          710   Germany   Male   43   \n1097       2534    15631838  Findlay          606    France   Male   61   \n\n      Tenure    Balance  NumOfProducts  HasCrCard  IsActiveMember  \\\n3227       3       0.00              2          0               1   \n6860       7   80293.98              1          0               0   \n4443       5       0.00              2          1               0   \n326       10  123187.51              1          0               1   \n736        2  140080.32              3          1               1   \n1097       5  108166.09              2          0               1   \n\n      EstimatedSalary  Exited  \n3227        124508.29       0  \n6860        126555.74       0  \n4443         47388.41       0  \n326         146111.35       0  \n736         157908.19       1  \n1097          8643.21       0  ",
      "text/html": "<div>\n<style scoped>\n    .dataframe tbody tr th:only-of-type {\n        vertical-align: middle;\n    }\n\n    .dataframe tbody tr th {\n        vertical-align: top;\n    }\n\n    .dataframe thead th {\n        text-align: right;\n    }\n</style>\n<table border=\"1\" class=\"dataframe\">\n  <thead>\n    <tr style=\"text-align: right;\">\n      <th></th>\n      <th>RowNumber</th>\n      <th>CustomerId</th>\n      <th>Surname</th>\n      <th>CreditScore</th>\n      <th>Geography</th>\n      <th>Gender</th>\n      <th>Age</th>\n      <th>Tenure</th>\n      <th>Balance</th>\n      <th>NumOfProducts</th>\n      <th>HasCrCard</th>\n      <th>IsActiveMember</th>\n      <th>EstimatedSalary</th>\n      <th>Exited</th>\n    </tr>\n  </thead>\n  <tbody>\n    <tr>\n      <th>3227</th>\n      <td>26</td>\n      <td>15738191</td>\n      <td>Maclean</td>\n      <td>577</td>\n      <td>France</td>\n      <td>Male</td>\n      <td>25</td>\n      <td>3</td>\n      <td>0.00</td>\n      <td>2</td>\n      <td>0</td>\n      <td>1</td>\n      <td>124508.29</td>\n      <td>0</td>\n    </tr>\n    <tr>\n      <th>6860</th>\n      <td>1060</td>\n      <td>15812197</td>\n      <td>Kline</td>\n      <td>850</td>\n      <td>France</td>\n      <td>Male</td>\n      <td>38</td>\n      <td>7</td>\n      <td>80293.98</td>\n      <td>1</td>\n      <td>0</td>\n      <td>0</td>\n      <td>126555.74</td>\n      <td>0</td>\n    </tr>\n    <tr>\n      <th>4443</th>\n      <td>5592</td>\n      <td>15607509</td>\n      <td>Ozerova</td>\n      <td>539</td>\n      <td>France</td>\n      <td>Male</td>\n      <td>38</td>\n      <td>5</td>\n      <td>0.00</td>\n      <td>2</td>\n      <td>1</td>\n      <td>0</td>\n      <td>47388.41</td>\n      <td>0</td>\n    </tr>\n    <tr>\n      <th>326</th>\n      <td>8820</td>\n      <td>15790750</td>\n      <td>Manfrin</td>\n      <td>592</td>\n      <td>Germany</td>\n      <td>Male</td>\n      <td>36</td>\n      <td>10</td>\n      <td>123187.51</td>\n      <td>1</td>\n      <td>0</td>\n      <td>1</td>\n      <td>146111.35</td>\n      <td>0</td>\n    </tr>\n    <tr>\n      <th>736</th>\n      <td>765</td>\n      <td>15672056</td>\n      <td>Kenenna</td>\n      <td>710</td>\n      <td>Germany</td>\n      <td>Male</td>\n      <td>43</td>\n      <td>2</td>\n      <td>140080.32</td>\n      <td>3</td>\n      <td>1</td>\n      <td>1</td>\n      <td>157908.19</td>\n      <td>1</td>\n    </tr>\n    <tr>\n      <th>1097</th>\n      <td>2534</td>\n      <td>15631838</td>\n      <td>Findlay</td>\n      <td>606</td>\n      <td>France</td>\n      <td>Male</td>\n      <td>61</td>\n      <td>5</td>\n      <td>108166.09</td>\n      <td>2</td>\n      <td>0</td>\n      <td>1</td>\n      <td>8643.21</td>\n      <td>0</td>\n    </tr>\n  </tbody>\n</table>\n</div>"
     },
     "execution_count": 3,
     "metadata": {},
     "output_type": "execute_result"
    }
   ],
   "source": [
    "train_data.sample(3).append(validation_data.sample(3))"
   ],
   "metadata": {
    "collapsed": false,
    "pycharm": {
     "name": "#%%\n"
    }
   }
  },
  {
   "cell_type": "code",
   "execution_count": 4,
   "outputs": [
    {
     "data": {
      "text/plain": "Pipeline(steps=[('dtypes',\n                 ConvertDtypes(categorical=['Geography', 'Gender'],\n                               numerical=['CreditScore', 'Age', 'Tenure',\n                                          'Balance', 'NumOfProducts',\n                                          'EstimatedSalary'])),\n                ('selector',\n                 ColumnSelector(columns=['CreditScore', 'Geography', 'Gender',\n                                         'Age', 'Tenure', 'Balance',\n                                         'NumOfProducts', 'HasCrCard',\n                                         'IsActiveMember',\n                                         'EstimatedSalary'])),\n                ('ohe', GetDummies(columns=['Geography', 'Gender']))])",
      "text/html": "<style>div.sk-top-container {color: black;background-color: white;}div.sk-toggleable {background-color: white;}label.sk-toggleable__label {cursor: pointer;display: block;width: 100%;margin-bottom: 0;padding: 0.2em 0.3em;box-sizing: border-box;text-align: center;}div.sk-toggleable__content {max-height: 0;max-width: 0;overflow: hidden;text-align: left;background-color: #f0f8ff;}div.sk-toggleable__content pre {margin: 0.2em;color: black;border-radius: 0.25em;background-color: #f0f8ff;}input.sk-toggleable__control:checked~div.sk-toggleable__content {max-height: 200px;max-width: 100%;overflow: auto;}div.sk-estimator input.sk-toggleable__control:checked~label.sk-toggleable__label {background-color: #d4ebff;}div.sk-label input.sk-toggleable__control:checked~label.sk-toggleable__label {background-color: #d4ebff;}input.sk-hidden--visually {border: 0;clip: rect(1px 1px 1px 1px);clip: rect(1px, 1px, 1px, 1px);height: 1px;margin: -1px;overflow: hidden;padding: 0;position: absolute;width: 1px;}div.sk-estimator {font-family: monospace;background-color: #f0f8ff;margin: 0.25em 0.25em;border: 1px dotted black;border-radius: 0.25em;box-sizing: border-box;}div.sk-estimator:hover {background-color: #d4ebff;}div.sk-parallel-item::after {content: \"\";width: 100%;border-bottom: 1px solid gray;flex-grow: 1;}div.sk-label:hover label.sk-toggleable__label {background-color: #d4ebff;}div.sk-serial::before {content: \"\";position: absolute;border-left: 1px solid gray;box-sizing: border-box;top: 2em;bottom: 0;left: 50%;}div.sk-serial {display: flex;flex-direction: column;align-items: center;background-color: white;}div.sk-item {z-index: 1;}div.sk-parallel {display: flex;align-items: stretch;justify-content: center;background-color: white;}div.sk-parallel-item {display: flex;flex-direction: column;position: relative;background-color: white;}div.sk-parallel-item:first-child::after {align-self: flex-end;width: 50%;}div.sk-parallel-item:last-child::after {align-self: flex-start;width: 50%;}div.sk-parallel-item:only-child::after {width: 0;}div.sk-dashed-wrapped {border: 1px dashed gray;margin: 0.2em;box-sizing: border-box;padding-bottom: 0.1em;background-color: white;position: relative;}div.sk-label label {font-family: monospace;font-weight: bold;background-color: white;display: inline-block;line-height: 1.2em;}div.sk-label-container {position: relative;z-index: 2;text-align: center;}div.sk-container {display: inline-block;position: relative;}</style><div class=\"sk-top-container\"><div class=\"sk-container\"><div class=\"sk-item sk-dashed-wrapped\"><div class=\"sk-label-container\"><div class=\"sk-label sk-toggleable\"><input class=\"sk-toggleable__control sk-hidden--visually\" id=\"35e34b79-e8f2-48e6-a6b8-92a8c48e02ea\" type=\"checkbox\" ><label class=\"sk-toggleable__label\" for=\"35e34b79-e8f2-48e6-a6b8-92a8c48e02ea\">Pipeline</label><div class=\"sk-toggleable__content\"><pre>Pipeline(steps=[('dtypes',\n                 ConvertDtypes(categorical=['Geography', 'Gender'],\n                               numerical=['CreditScore', 'Age', 'Tenure',\n                                          'Balance', 'NumOfProducts',\n                                          'EstimatedSalary'])),\n                ('selector',\n                 ColumnSelector(columns=['CreditScore', 'Geography', 'Gender',\n                                         'Age', 'Tenure', 'Balance',\n                                         'NumOfProducts', 'HasCrCard',\n                                         'IsActiveMember',\n                                         'EstimatedSalary'])),\n                ('ohe', GetDummies(columns=['Geography', 'Gender']))])</pre></div></div></div><div class=\"sk-serial\"><div class=\"sk-item\"><div class=\"sk-estimator sk-toggleable\"><input class=\"sk-toggleable__control sk-hidden--visually\" id=\"f33fecae-b693-4c2b-88c0-842a73fbe2f9\" type=\"checkbox\" ><label class=\"sk-toggleable__label\" for=\"f33fecae-b693-4c2b-88c0-842a73fbe2f9\">ConvertDtypes</label><div class=\"sk-toggleable__content\"><pre>ConvertDtypes(categorical=['Geography', 'Gender'],\n              numerical=['CreditScore', 'Age', 'Tenure', 'Balance',\n                         'NumOfProducts', 'EstimatedSalary'])</pre></div></div></div><div class=\"sk-item\"><div class=\"sk-estimator sk-toggleable\"><input class=\"sk-toggleable__control sk-hidden--visually\" id=\"df3b9383-56a8-4fa8-9db8-7bbeed22b13a\" type=\"checkbox\" ><label class=\"sk-toggleable__label\" for=\"df3b9383-56a8-4fa8-9db8-7bbeed22b13a\">ColumnSelector</label><div class=\"sk-toggleable__content\"><pre>ColumnSelector(columns=['CreditScore', 'Geography', 'Gender', 'Age', 'Tenure',\n                        'Balance', 'NumOfProducts', 'HasCrCard',\n                        'IsActiveMember', 'EstimatedSalary'])</pre></div></div></div><div class=\"sk-item\"><div class=\"sk-estimator sk-toggleable\"><input class=\"sk-toggleable__control sk-hidden--visually\" id=\"249457ee-2234-4d18-b4d5-3d4751266f69\" type=\"checkbox\" ><label class=\"sk-toggleable__label\" for=\"249457ee-2234-4d18-b4d5-3d4751266f69\">GetDummies</label><div class=\"sk-toggleable__content\"><pre>GetDummies(columns=['Geography', 'Gender'])</pre></div></div></div></div></div></div></div>"
     },
     "execution_count": 4,
     "metadata": {},
     "output_type": "execute_result"
    }
   ],
   "source": [
    "preprocessor = Pipeline(steps=[\n",
    "        ('dtypes', ConvertDtypes(numerical=cfg.NUMERICAL_FEATURES, categorical=cfg.CATEGORICAL_FEATURES)),\n",
    "        ('selector', ColumnSelector(columns=cfg.FEATURES[3:])),\n",
    "        ('ohe', GetDummies(columns=cfg.CATEGORICAL_FEATURES))\n",
    "    ])\n",
    "\n",
    "preprocessor.fit(train_data)"
   ],
   "metadata": {
    "collapsed": false,
    "pycharm": {
     "name": "#%%\n"
    }
   }
  },
  {
   "cell_type": "code",
   "execution_count": 5,
   "outputs": [
    {
     "data": {
      "text/plain": "['models/preprocessor.joblib']"
     },
     "execution_count": 5,
     "metadata": {},
     "output_type": "execute_result"
    }
   ],
   "source": [
    "joblib.dump(preprocessor, filename='models/preprocessor.joblib')"
   ],
   "metadata": {
    "collapsed": false,
    "pycharm": {
     "name": "#%%\n"
    }
   }
  },
  {
   "cell_type": "code",
   "execution_count": 6,
   "outputs": [
    {
     "data": {
      "text/plain": "      CreditScore  Age  Tenure    Balance  NumOfProducts  HasCrCard  \\\n285           760   34       6   58003.41              1          1   \n296           673   40       1  121629.22              1          1   \n6255          655   27      10       0.00              2          1   \n4847          628   33       3       0.00              1          1   \n1635          651   25       2  109175.14              2          1   \n\n      IsActiveMember  EstimatedSalary  Geography_France  Geography_Spain  \\\n285                0         90346.10                 0                0   \n296                1          3258.60                 0                1   \n6255               0         51620.94                 1                0   \n4847               1        188193.25                 0                1   \n1635               0        114566.47                 0                0   \n\n      Geography_Germany  Gender_Male  \n285                   1            0  \n296                   0            1  \n6255                  0            1  \n4847                  0            0  \n1635                  1            0  ",
      "text/html": "<div>\n<style scoped>\n    .dataframe tbody tr th:only-of-type {\n        vertical-align: middle;\n    }\n\n    .dataframe tbody tr th {\n        vertical-align: top;\n    }\n\n    .dataframe thead th {\n        text-align: right;\n    }\n</style>\n<table border=\"1\" class=\"dataframe\">\n  <thead>\n    <tr style=\"text-align: right;\">\n      <th></th>\n      <th>CreditScore</th>\n      <th>Age</th>\n      <th>Tenure</th>\n      <th>Balance</th>\n      <th>NumOfProducts</th>\n      <th>HasCrCard</th>\n      <th>IsActiveMember</th>\n      <th>EstimatedSalary</th>\n      <th>Geography_France</th>\n      <th>Geography_Spain</th>\n      <th>Geography_Germany</th>\n      <th>Gender_Male</th>\n    </tr>\n  </thead>\n  <tbody>\n    <tr>\n      <th>285</th>\n      <td>760</td>\n      <td>34</td>\n      <td>6</td>\n      <td>58003.41</td>\n      <td>1</td>\n      <td>1</td>\n      <td>0</td>\n      <td>90346.10</td>\n      <td>0</td>\n      <td>0</td>\n      <td>1</td>\n      <td>0</td>\n    </tr>\n    <tr>\n      <th>296</th>\n      <td>673</td>\n      <td>40</td>\n      <td>1</td>\n      <td>121629.22</td>\n      <td>1</td>\n      <td>1</td>\n      <td>1</td>\n      <td>3258.60</td>\n      <td>0</td>\n      <td>1</td>\n      <td>0</td>\n      <td>1</td>\n    </tr>\n    <tr>\n      <th>6255</th>\n      <td>655</td>\n      <td>27</td>\n      <td>10</td>\n      <td>0.00</td>\n      <td>2</td>\n      <td>1</td>\n      <td>0</td>\n      <td>51620.94</td>\n      <td>1</td>\n      <td>0</td>\n      <td>0</td>\n      <td>1</td>\n    </tr>\n    <tr>\n      <th>4847</th>\n      <td>628</td>\n      <td>33</td>\n      <td>3</td>\n      <td>0.00</td>\n      <td>1</td>\n      <td>1</td>\n      <td>1</td>\n      <td>188193.25</td>\n      <td>0</td>\n      <td>1</td>\n      <td>0</td>\n      <td>0</td>\n    </tr>\n    <tr>\n      <th>1635</th>\n      <td>651</td>\n      <td>25</td>\n      <td>2</td>\n      <td>109175.14</td>\n      <td>2</td>\n      <td>1</td>\n      <td>0</td>\n      <td>114566.47</td>\n      <td>0</td>\n      <td>0</td>\n      <td>1</td>\n      <td>0</td>\n    </tr>\n  </tbody>\n</table>\n</div>"
     },
     "execution_count": 6,
     "metadata": {},
     "output_type": "execute_result"
    }
   ],
   "source": [
    "preprocessor.transform(train_data).sample(5)"
   ],
   "metadata": {
    "collapsed": false,
    "pycharm": {
     "name": "#%%\n"
    }
   }
  },
  {
   "cell_type": "code",
   "execution_count": 7,
   "outputs": [],
   "source": [
    "preprocessor = None"
   ],
   "metadata": {
    "collapsed": false,
    "pycharm": {
     "name": "#%%\n"
    }
   }
  },
  {
   "cell_type": "code",
   "execution_count": 8,
   "outputs": [],
   "source": [
    "def input_fn(input_data, content_type):\n",
    "    if content_type == 'text/csv':\n",
    "        df = pd.read_csv(StringIO(input_data), sep=';', header=None)\n",
    "        if len(df.columns) == len(cfg.FEATURES) + 1:\n",
    "            df.columns = cfg.FEATURES + [cfg.LABEL]\n",
    "        elif len(df.columns) == len(cfg.FEATURES):\n",
    "            df.columns = cfg.FEATURES\n",
    "        return df\n",
    "    elif content_type == 'application/json':\n",
    "        df = pd.read_json(StringIO(input_data))\n",
    "        return df\n",
    "    else:\n",
    "        raise ValueError(f'{content_type} not supported by script')\n",
    "\n",
    "def predict_fn(input_data, model):\n",
    "    features = model.transform(input_data).values\n",
    "    if cfg.LABEL in input_data:\n",
    "        return np.insert(features, 0, input_data[cfg.LABEL], axis=1)\n",
    "    else:\n",
    "        return features"
   ],
   "metadata": {
    "collapsed": false,
    "pycharm": {
     "name": "#%%\n"
    }
   }
  },
  {
   "cell_type": "code",
   "execution_count": 10,
   "outputs": [
    {
     "data": {
      "text/plain": "   RowNumber  CustomerId Surname  CreditScore Geography  Gender  Age  Tenure  \\\n0       4982    15768137    Bray          667     Spain  Female   23       6   \n\n     Balance  NumOfProducts  HasCrCard  IsActiveMember  EstimatedSalary  \n0  136100.69              2          0               0        169669.33  ",
      "text/html": "<div>\n<style scoped>\n    .dataframe tbody tr th:only-of-type {\n        vertical-align: middle;\n    }\n\n    .dataframe tbody tr th {\n        vertical-align: top;\n    }\n\n    .dataframe thead th {\n        text-align: right;\n    }\n</style>\n<table border=\"1\" class=\"dataframe\">\n  <thead>\n    <tr style=\"text-align: right;\">\n      <th></th>\n      <th>RowNumber</th>\n      <th>CustomerId</th>\n      <th>Surname</th>\n      <th>CreditScore</th>\n      <th>Geography</th>\n      <th>Gender</th>\n      <th>Age</th>\n      <th>Tenure</th>\n      <th>Balance</th>\n      <th>NumOfProducts</th>\n      <th>HasCrCard</th>\n      <th>IsActiveMember</th>\n      <th>EstimatedSalary</th>\n    </tr>\n  </thead>\n  <tbody>\n    <tr>\n      <th>0</th>\n      <td>4982</td>\n      <td>15768137</td>\n      <td>Bray</td>\n      <td>667</td>\n      <td>Spain</td>\n      <td>Female</td>\n      <td>23</td>\n      <td>6</td>\n      <td>136100.69</td>\n      <td>2</td>\n      <td>0</td>\n      <td>0</td>\n      <td>169669.33</td>\n    </tr>\n  </tbody>\n</table>\n</div>"
     },
     "execution_count": 10,
     "metadata": {},
     "output_type": "execute_result"
    }
   ],
   "source": [
    "input_data = '4982;15768137;Bray;667;Spain;Female;23;6;136100.69;2;0;0;169669.33'\n",
    "\n",
    "new_data = input_fn(input_data=input_data, content_type='text/csv')\n",
    "new_data"
   ],
   "metadata": {
    "collapsed": false,
    "pycharm": {
     "name": "#%%\n"
    }
   }
  },
  {
   "cell_type": "code",
   "execution_count": 11,
   "outputs": [
    {
     "data": {
      "text/plain": "array([[6.6700000e+02, 2.3000000e+01, 6.0000000e+00, 1.3610069e+05,\n        2.0000000e+00, 0.0000000e+00, 0.0000000e+00, 1.6966933e+05,\n        0.0000000e+00, 1.0000000e+00, 0.0000000e+00, 0.0000000e+00]])"
     },
     "execution_count": 11,
     "metadata": {},
     "output_type": "execute_result"
    }
   ],
   "source": [
    "preprocessor = joblib.load(filename='models/preprocessor.joblib')\n",
    "\n",
    "transformed = predict_fn(input_data=new_data, model=preprocessor)\n",
    "transformed"
   ],
   "metadata": {
    "collapsed": false,
    "pycharm": {
     "name": "#%%\n"
    }
   }
  },
  {
   "cell_type": "code",
   "execution_count": null,
   "outputs": [],
   "source": [
    "\n"
   ],
   "metadata": {
    "collapsed": false,
    "pycharm": {
     "name": "#%%\n"
    }
   }
  }
 ],
 "metadata": {
  "kernelspec": {
   "display_name": "Python 3",
   "language": "python",
   "name": "python3"
  },
  "language_info": {
   "codemirror_mode": {
    "name": "ipython",
    "version": 2
   },
   "file_extension": ".py",
   "mimetype": "text/x-python",
   "name": "python",
   "nbconvert_exporter": "python",
   "pygments_lexer": "ipython2",
   "version": "2.7.6"
  }
 },
 "nbformat": 4,
 "nbformat_minor": 0
}