{
 "cells": [
  {
   "cell_type": "code",
   "execution_count": 1,
   "metadata": {
    "collapsed": true
   },
   "outputs": [],
   "source": [
    "import joblib\n",
    "import warnings\n",
    "import numpy as np\n",
    "import pandas as pd\n",
    "from io import StringIO\n",
    "from sklearn import set_config\n",
    "from src.config import config as cfg\n",
    "from sklearn.pipeline import Pipeline\n",
    "from src.pipeline.custom_pipeline import ColumnSelector, ConvertDtypes, GetDummies\n",
    "\n",
    "set_config(display='diagram')\n",
    "warnings.filterwarnings(action='ignore')"
   ]
  },
  {
   "cell_type": "code",
   "execution_count": 2,
   "outputs": [],
   "source": [
    "train_data = pd.read_csv('data/train.csv', sep=';', names=cfg.FEATURES + [cfg.LABEL])\n",
    "validation_data = pd.read_csv('data/validation.csv', sep=';', names=cfg.FEATURES + [cfg.LABEL])"
   ],
   "metadata": {
    "collapsed": false,
    "pycharm": {
     "name": "#%%\n"
    }
   }
  },
  {
   "cell_type": "code",
   "execution_count": 3,
   "outputs": [
    {
     "data": {
      "text/plain": "      RowNumber  CustomerId Surname  CreditScore Geography  Gender  Age  \\\n6016       5032    15680517     Sal          769   Germany  Female   34   \n6888       3841    15662884  Naylor          739   Germany    Male   58   \n5738       7070    15692137     Jen          759    France  Female   46   \n775        9994    15569266  Rahman          644    France    Male   28   \n535        5174    15705281    Burt          800     Spain    Male   38   \n596        4853    15574137   Ch'in          687     Spain    Male   35   \n\n      Tenure    Balance  NumOfProducts  HasCrCard  IsActiveMember  \\\n6016       7  137239.17              1          1               1   \n6888       1  110597.76              1          0               1   \n5738       2       0.00              1          1               1   \n775        7  155060.41              1          1               0   \n535        9       0.00              1          1               0   \n596        3       0.00              2          1               1   \n\n      EstimatedSalary  Exited  \n6016         71379.92       1  \n6888        160122.66       1  \n5738        138380.11       0  \n775          29179.52       0  \n535          78744.39       0  \n596         176450.19       0  ",
      "text/html": "<div>\n<style scoped>\n    .dataframe tbody tr th:only-of-type {\n        vertical-align: middle;\n    }\n\n    .dataframe tbody tr th {\n        vertical-align: top;\n    }\n\n    .dataframe thead th {\n        text-align: right;\n    }\n</style>\n<table border=\"1\" class=\"dataframe\">\n  <thead>\n    <tr style=\"text-align: right;\">\n      <th></th>\n      <th>RowNumber</th>\n      <th>CustomerId</th>\n      <th>Surname</th>\n      <th>CreditScore</th>\n      <th>Geography</th>\n      <th>Gender</th>\n      <th>Age</th>\n      <th>Tenure</th>\n      <th>Balance</th>\n      <th>NumOfProducts</th>\n      <th>HasCrCard</th>\n      <th>IsActiveMember</th>\n      <th>EstimatedSalary</th>\n      <th>Exited</th>\n    </tr>\n  </thead>\n  <tbody>\n    <tr>\n      <th>6016</th>\n      <td>5032</td>\n      <td>15680517</td>\n      <td>Sal</td>\n      <td>769</td>\n      <td>Germany</td>\n      <td>Female</td>\n      <td>34</td>\n      <td>7</td>\n      <td>137239.17</td>\n      <td>1</td>\n      <td>1</td>\n      <td>1</td>\n      <td>71379.92</td>\n      <td>1</td>\n    </tr>\n    <tr>\n      <th>6888</th>\n      <td>3841</td>\n      <td>15662884</td>\n      <td>Naylor</td>\n      <td>739</td>\n      <td>Germany</td>\n      <td>Male</td>\n      <td>58</td>\n      <td>1</td>\n      <td>110597.76</td>\n      <td>1</td>\n      <td>0</td>\n      <td>1</td>\n      <td>160122.66</td>\n      <td>1</td>\n    </tr>\n    <tr>\n      <th>5738</th>\n      <td>7070</td>\n      <td>15692137</td>\n      <td>Jen</td>\n      <td>759</td>\n      <td>France</td>\n      <td>Female</td>\n      <td>46</td>\n      <td>2</td>\n      <td>0.00</td>\n      <td>1</td>\n      <td>1</td>\n      <td>1</td>\n      <td>138380.11</td>\n      <td>0</td>\n    </tr>\n    <tr>\n      <th>775</th>\n      <td>9994</td>\n      <td>15569266</td>\n      <td>Rahman</td>\n      <td>644</td>\n      <td>France</td>\n      <td>Male</td>\n      <td>28</td>\n      <td>7</td>\n      <td>155060.41</td>\n      <td>1</td>\n      <td>1</td>\n      <td>0</td>\n      <td>29179.52</td>\n      <td>0</td>\n    </tr>\n    <tr>\n      <th>535</th>\n      <td>5174</td>\n      <td>15705281</td>\n      <td>Burt</td>\n      <td>800</td>\n      <td>Spain</td>\n      <td>Male</td>\n      <td>38</td>\n      <td>9</td>\n      <td>0.00</td>\n      <td>1</td>\n      <td>1</td>\n      <td>0</td>\n      <td>78744.39</td>\n      <td>0</td>\n    </tr>\n    <tr>\n      <th>596</th>\n      <td>4853</td>\n      <td>15574137</td>\n      <td>Ch'in</td>\n      <td>687</td>\n      <td>Spain</td>\n      <td>Male</td>\n      <td>35</td>\n      <td>3</td>\n      <td>0.00</td>\n      <td>2</td>\n      <td>1</td>\n      <td>1</td>\n      <td>176450.19</td>\n      <td>0</td>\n    </tr>\n  </tbody>\n</table>\n</div>"
     },
     "execution_count": 3,
     "metadata": {},
     "output_type": "execute_result"
    }
   ],
   "source": [
    "train_data.sample(3).append(validation_data.sample(3))"
   ],
   "metadata": {
    "collapsed": false,
    "pycharm": {
     "name": "#%%\n"
    }
   }
  },
  {
   "cell_type": "code",
   "execution_count": 4,
   "outputs": [
    {
     "data": {
      "text/plain": "Pipeline(steps=[('dtypes',\n                 ConvertDtypes(categorical=['Geography', 'Gender'],\n                               numerical=['CreditScore', 'Age', 'Tenure',\n                                          'Balance', 'NumOfProducts',\n                                          'EstimatedSalary'])),\n                ('selector',\n                 ColumnSelector(columns=['CreditScore', 'Geography', 'Gender',\n                                         'Age', 'Tenure', 'Balance',\n                                         'NumOfProducts', 'HasCrCard',\n                                         'IsActiveMember',\n                                         'EstimatedSalary'])),\n                ('ohe', GetDummies(columns=['Geography', 'Gender']))])",
      "text/html": "<style>div.sk-top-container {color: black;background-color: white;}div.sk-toggleable {background-color: white;}label.sk-toggleable__label {cursor: pointer;display: block;width: 100%;margin-bottom: 0;padding: 0.2em 0.3em;box-sizing: border-box;text-align: center;}div.sk-toggleable__content {max-height: 0;max-width: 0;overflow: hidden;text-align: left;background-color: #f0f8ff;}div.sk-toggleable__content pre {margin: 0.2em;color: black;border-radius: 0.25em;background-color: #f0f8ff;}input.sk-toggleable__control:checked~div.sk-toggleable__content {max-height: 200px;max-width: 100%;overflow: auto;}div.sk-estimator input.sk-toggleable__control:checked~label.sk-toggleable__label {background-color: #d4ebff;}div.sk-label input.sk-toggleable__control:checked~label.sk-toggleable__label {background-color: #d4ebff;}input.sk-hidden--visually {border: 0;clip: rect(1px 1px 1px 1px);clip: rect(1px, 1px, 1px, 1px);height: 1px;margin: -1px;overflow: hidden;padding: 0;position: absolute;width: 1px;}div.sk-estimator {font-family: monospace;background-color: #f0f8ff;margin: 0.25em 0.25em;border: 1px dotted black;border-radius: 0.25em;box-sizing: border-box;}div.sk-estimator:hover {background-color: #d4ebff;}div.sk-parallel-item::after {content: \"\";width: 100%;border-bottom: 1px solid gray;flex-grow: 1;}div.sk-label:hover label.sk-toggleable__label {background-color: #d4ebff;}div.sk-serial::before {content: \"\";position: absolute;border-left: 1px solid gray;box-sizing: border-box;top: 2em;bottom: 0;left: 50%;}div.sk-serial {display: flex;flex-direction: column;align-items: center;background-color: white;}div.sk-item {z-index: 1;}div.sk-parallel {display: flex;align-items: stretch;justify-content: center;background-color: white;}div.sk-parallel-item {display: flex;flex-direction: column;position: relative;background-color: white;}div.sk-parallel-item:first-child::after {align-self: flex-end;width: 50%;}div.sk-parallel-item:last-child::after {align-self: flex-start;width: 50%;}div.sk-parallel-item:only-child::after {width: 0;}div.sk-dashed-wrapped {border: 1px dashed gray;margin: 0.2em;box-sizing: border-box;padding-bottom: 0.1em;background-color: white;position: relative;}div.sk-label label {font-family: monospace;font-weight: bold;background-color: white;display: inline-block;line-height: 1.2em;}div.sk-label-container {position: relative;z-index: 2;text-align: center;}div.sk-container {display: inline-block;position: relative;}</style><div class=\"sk-top-container\"><div class=\"sk-container\"><div class=\"sk-item sk-dashed-wrapped\"><div class=\"sk-label-container\"><div class=\"sk-label sk-toggleable\"><input class=\"sk-toggleable__control sk-hidden--visually\" id=\"d3b16a26-40c7-4dc6-8867-c4a23d9a6144\" type=\"checkbox\" ><label class=\"sk-toggleable__label\" for=\"d3b16a26-40c7-4dc6-8867-c4a23d9a6144\">Pipeline</label><div class=\"sk-toggleable__content\"><pre>Pipeline(steps=[('dtypes',\n                 ConvertDtypes(categorical=['Geography', 'Gender'],\n                               numerical=['CreditScore', 'Age', 'Tenure',\n                                          'Balance', 'NumOfProducts',\n                                          'EstimatedSalary'])),\n                ('selector',\n                 ColumnSelector(columns=['CreditScore', 'Geography', 'Gender',\n                                         'Age', 'Tenure', 'Balance',\n                                         'NumOfProducts', 'HasCrCard',\n                                         'IsActiveMember',\n                                         'EstimatedSalary'])),\n                ('ohe', GetDummies(columns=['Geography', 'Gender']))])</pre></div></div></div><div class=\"sk-serial\"><div class=\"sk-item\"><div class=\"sk-estimator sk-toggleable\"><input class=\"sk-toggleable__control sk-hidden--visually\" id=\"7d9fd750-3308-400a-bac3-c12b0a1736d2\" type=\"checkbox\" ><label class=\"sk-toggleable__label\" for=\"7d9fd750-3308-400a-bac3-c12b0a1736d2\">ConvertDtypes</label><div class=\"sk-toggleable__content\"><pre>ConvertDtypes(categorical=['Geography', 'Gender'],\n              numerical=['CreditScore', 'Age', 'Tenure', 'Balance',\n                         'NumOfProducts', 'EstimatedSalary'])</pre></div></div></div><div class=\"sk-item\"><div class=\"sk-estimator sk-toggleable\"><input class=\"sk-toggleable__control sk-hidden--visually\" id=\"0d401fb0-9ce4-41ef-aac2-6e4475ab359c\" type=\"checkbox\" ><label class=\"sk-toggleable__label\" for=\"0d401fb0-9ce4-41ef-aac2-6e4475ab359c\">ColumnSelector</label><div class=\"sk-toggleable__content\"><pre>ColumnSelector(columns=['CreditScore', 'Geography', 'Gender', 'Age', 'Tenure',\n                        'Balance', 'NumOfProducts', 'HasCrCard',\n                        'IsActiveMember', 'EstimatedSalary'])</pre></div></div></div><div class=\"sk-item\"><div class=\"sk-estimator sk-toggleable\"><input class=\"sk-toggleable__control sk-hidden--visually\" id=\"a1858bf3-056c-46b3-9e37-bdd838d10c65\" type=\"checkbox\" ><label class=\"sk-toggleable__label\" for=\"a1858bf3-056c-46b3-9e37-bdd838d10c65\">GetDummies</label><div class=\"sk-toggleable__content\"><pre>GetDummies(columns=['Geography', 'Gender'])</pre></div></div></div></div></div></div></div>"
     },
     "execution_count": 4,
     "metadata": {},
     "output_type": "execute_result"
    }
   ],
   "source": [
    "preprocessor = Pipeline(steps=[\n",
    "        ('dtypes', ConvertDtypes(numerical=cfg.NUMERICAL_FEATURES, categorical=cfg.CATEGORICAL_FEATURES)),\n",
    "        ('selector', ColumnSelector(columns=cfg.FEATURES[3:])),\n",
    "        ('ohe', GetDummies(columns=cfg.CATEGORICAL_FEATURES))\n",
    "    ])\n",
    "\n",
    "preprocessor.fit(train_data)"
   ],
   "metadata": {
    "collapsed": false,
    "pycharm": {
     "name": "#%%\n"
    }
   }
  },
  {
   "cell_type": "code",
   "execution_count": 5,
   "outputs": [
    {
     "data": {
      "text/plain": "['models/preprocessor.joblib']"
     },
     "execution_count": 5,
     "metadata": {},
     "output_type": "execute_result"
    }
   ],
   "source": [
    "joblib.dump(preprocessor, filename='models/preprocessor.joblib')"
   ],
   "metadata": {
    "collapsed": false,
    "pycharm": {
     "name": "#%%\n"
    }
   }
  },
  {
   "cell_type": "code",
   "execution_count": 6,
   "outputs": [
    {
     "data": {
      "text/plain": "      CreditScore  Age  Tenure    Balance  NumOfProducts  HasCrCard  \\\n4521          706   38       8       0.00              2          0   \n3880          596   57       6       0.00              2          1   \n5920          757   57       3   89079.41              1          1   \n2739          626   47       2  103108.80              1          0   \n2646          691   30       9       0.00              1          1   \n\n      IsActiveMember  EstimatedSalary  Geography_France  Geography_Spain  \\\n4521               1         46635.11                 0                1   \n3880               1         72402.00                 0                1   \n5920               1         53179.21                 1                0   \n2739               1        166475.44                 0                0   \n2646               0         49594.02                 1                0   \n\n      Geography_Germany  Gender_Male  \n4521                  0            1  \n3880                  0            1  \n5920                  0            1  \n2739                  1            0  \n2646                  0            1  ",
      "text/html": "<div>\n<style scoped>\n    .dataframe tbody tr th:only-of-type {\n        vertical-align: middle;\n    }\n\n    .dataframe tbody tr th {\n        vertical-align: top;\n    }\n\n    .dataframe thead th {\n        text-align: right;\n    }\n</style>\n<table border=\"1\" class=\"dataframe\">\n  <thead>\n    <tr style=\"text-align: right;\">\n      <th></th>\n      <th>CreditScore</th>\n      <th>Age</th>\n      <th>Tenure</th>\n      <th>Balance</th>\n      <th>NumOfProducts</th>\n      <th>HasCrCard</th>\n      <th>IsActiveMember</th>\n      <th>EstimatedSalary</th>\n      <th>Geography_France</th>\n      <th>Geography_Spain</th>\n      <th>Geography_Germany</th>\n      <th>Gender_Male</th>\n    </tr>\n  </thead>\n  <tbody>\n    <tr>\n      <th>4521</th>\n      <td>706</td>\n      <td>38</td>\n      <td>8</td>\n      <td>0.00</td>\n      <td>2</td>\n      <td>0</td>\n      <td>1</td>\n      <td>46635.11</td>\n      <td>0</td>\n      <td>1</td>\n      <td>0</td>\n      <td>1</td>\n    </tr>\n    <tr>\n      <th>3880</th>\n      <td>596</td>\n      <td>57</td>\n      <td>6</td>\n      <td>0.00</td>\n      <td>2</td>\n      <td>1</td>\n      <td>1</td>\n      <td>72402.00</td>\n      <td>0</td>\n      <td>1</td>\n      <td>0</td>\n      <td>1</td>\n    </tr>\n    <tr>\n      <th>5920</th>\n      <td>757</td>\n      <td>57</td>\n      <td>3</td>\n      <td>89079.41</td>\n      <td>1</td>\n      <td>1</td>\n      <td>1</td>\n      <td>53179.21</td>\n      <td>1</td>\n      <td>0</td>\n      <td>0</td>\n      <td>1</td>\n    </tr>\n    <tr>\n      <th>2739</th>\n      <td>626</td>\n      <td>47</td>\n      <td>2</td>\n      <td>103108.80</td>\n      <td>1</td>\n      <td>0</td>\n      <td>1</td>\n      <td>166475.44</td>\n      <td>0</td>\n      <td>0</td>\n      <td>1</td>\n      <td>0</td>\n    </tr>\n    <tr>\n      <th>2646</th>\n      <td>691</td>\n      <td>30</td>\n      <td>9</td>\n      <td>0.00</td>\n      <td>1</td>\n      <td>1</td>\n      <td>0</td>\n      <td>49594.02</td>\n      <td>1</td>\n      <td>0</td>\n      <td>0</td>\n      <td>1</td>\n    </tr>\n  </tbody>\n</table>\n</div>"
     },
     "execution_count": 6,
     "metadata": {},
     "output_type": "execute_result"
    }
   ],
   "source": [
    "preprocessor.transform(train_data).sample(5)"
   ],
   "metadata": {
    "collapsed": false,
    "pycharm": {
     "name": "#%%\n"
    }
   }
  },
  {
   "cell_type": "code",
   "execution_count": 7,
   "outputs": [],
   "source": [
    "preprocessor = None"
   ],
   "metadata": {
    "collapsed": false,
    "pycharm": {
     "name": "#%%\n"
    }
   }
  },
  {
   "cell_type": "code",
   "execution_count": 15,
   "outputs": [],
   "source": [
    "def input_fn(input_data, content_type):\n",
    "    if content_type == 'text/csv':\n",
    "        df = pd.read_csv(StringIO(input_data), sep=';', header=None)\n",
    "        if len(df.columns) == len(cfg.FEATURES) + 1:\n",
    "            df.columns = cfg.FEATURES + [cfg.LABEL]\n",
    "        elif len(df.columns) == len(cfg.FEATURES):\n",
    "            df.columns = cfg.FEATURES\n",
    "        return df\n",
    "    elif content_type == 'application/json':\n",
    "        df = pd.read_json(StringIO(input_data))\n",
    "        return df\n",
    "    else:\n",
    "        raise ValueError(f'{content_type} not supported by script')\n",
    "\n",
    "def predict_fn(input_data, model):\n",
    "    features = model.transform(input_data).values\n",
    "    if cfg.LABEL in input_data:\n",
    "        return np.insert(features, 0, input_data[cfg.LABEL], axis=1)\n",
    "    else:\n",
    "        return features"
   ],
   "metadata": {
    "collapsed": false,
    "pycharm": {
     "name": "#%%\n"
    }
   }
  },
  {
   "cell_type": "code",
   "execution_count": 17,
   "outputs": [
    {
     "data": {
      "text/plain": "   RowNumber  CustomerId Surname  CreditScore Geography Gender  Age  Tenure  \\\n0       7897    15727857   Flynn          635     Spain   Male   41       1   \n\n   Balance  NumOfProducts  HasCrCard  IsActiveMember  EstimatedSalary  \n0      0.0              2          1               0         175611.5  ",
      "text/html": "<div>\n<style scoped>\n    .dataframe tbody tr th:only-of-type {\n        vertical-align: middle;\n    }\n\n    .dataframe tbody tr th {\n        vertical-align: top;\n    }\n\n    .dataframe thead th {\n        text-align: right;\n    }\n</style>\n<table border=\"1\" class=\"dataframe\">\n  <thead>\n    <tr style=\"text-align: right;\">\n      <th></th>\n      <th>RowNumber</th>\n      <th>CustomerId</th>\n      <th>Surname</th>\n      <th>CreditScore</th>\n      <th>Geography</th>\n      <th>Gender</th>\n      <th>Age</th>\n      <th>Tenure</th>\n      <th>Balance</th>\n      <th>NumOfProducts</th>\n      <th>HasCrCard</th>\n      <th>IsActiveMember</th>\n      <th>EstimatedSalary</th>\n    </tr>\n  </thead>\n  <tbody>\n    <tr>\n      <th>0</th>\n      <td>7897</td>\n      <td>15727857</td>\n      <td>Flynn</td>\n      <td>635</td>\n      <td>Spain</td>\n      <td>Male</td>\n      <td>41</td>\n      <td>1</td>\n      <td>0.0</td>\n      <td>2</td>\n      <td>1</td>\n      <td>0</td>\n      <td>175611.5</td>\n    </tr>\n  </tbody>\n</table>\n</div>"
     },
     "execution_count": 17,
     "metadata": {},
     "output_type": "execute_result"
    }
   ],
   "source": [
    "input_data = '7897;15727857;Flynn;635;Spain;Male;41;1;0.0;2;1;0;175611.5'\n",
    "\n",
    "new_data = input_fn(input_data=input_data, content_type='text/csv')\n",
    "new_data"
   ],
   "metadata": {
    "collapsed": false,
    "pycharm": {
     "name": "#%%\n"
    }
   }
  },
  {
   "cell_type": "code",
   "execution_count": 18,
   "outputs": [
    {
     "data": {
      "text/plain": "array([[6.350000e+02, 4.100000e+01, 1.000000e+00, 0.000000e+00,\n        2.000000e+00, 1.000000e+00, 0.000000e+00, 1.756115e+05,\n        0.000000e+00, 1.000000e+00, 0.000000e+00, 1.000000e+00]])"
     },
     "execution_count": 18,
     "metadata": {},
     "output_type": "execute_result"
    }
   ],
   "source": [
    "preprocessor = joblib.load(filename='models/preprocessor.joblib')\n",
    "\n",
    "transformed = predict_fn(input_data=new_data, model=preprocessor)\n",
    "transformed"
   ],
   "metadata": {
    "collapsed": false,
    "pycharm": {
     "name": "#%%\n"
    }
   }
  },
  {
   "cell_type": "code",
   "execution_count": null,
   "outputs": [],
   "source": [
    "\n"
   ],
   "metadata": {
    "collapsed": false,
    "pycharm": {
     "name": "#%%\n"
    }
   }
  }
 ],
 "metadata": {
  "kernelspec": {
   "display_name": "Python 3",
   "language": "python",
   "name": "python3"
  },
  "language_info": {
   "codemirror_mode": {
    "name": "ipython",
    "version": 2
   },
   "file_extension": ".py",
   "mimetype": "text/x-python",
   "name": "python",
   "nbconvert_exporter": "python",
   "pygments_lexer": "ipython2",
   "version": "2.7.6"
  }
 },
 "nbformat": 4,
 "nbformat_minor": 0
}